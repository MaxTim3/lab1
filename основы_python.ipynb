{
  "metadata": {
    "kernelspec": {
      "name": "python",
      "display_name": "Python (Pyodide)",
      "language": "python"
    },
    "language_info": {
      "codemirror_mode": {
        "name": "python",
        "version": 3
      },
      "file_extension": ".py",
      "mimetype": "text/x-python",
      "name": "python",
      "nbconvert_exporter": "python",
      "pygments_lexer": "ipython3",
      "version": "3.8"
    },
    "colab": {
      "provenance": []
    }
  },
  "nbformat_minor": 4,
  "nbformat": 4,
  "cells": [
    {
      "cell_type": "markdown",
      "source": "#Задача 1\nНаписать функцию на вход которой подается строка, состоящая из латинских букв.\nФункция должна вернуть количество гласных букв (a, e, i, o, u) в этой строке. Написать тесты для кода",
      "metadata": {
        "id": "M-DGa20PaHnu"
      }
    },
    {
      "cell_type": "code",
      "source": "def count_letters(string):\n    count = 0\n    for char in string:\n        if char in 'aeiou':\n            count += 1\n    return count\n\nprint(count_letters('qwerty'))\nprint(count_letters('iainucds'))",
      "metadata": {
        "id": "XvX8X_JJ6PCb",
        "trusted": true
      },
      "outputs": [
        {
          "name": "stdout",
          "text": "1\n4\n",
          "output_type": "stream"
        }
      ],
      "execution_count": 1
    },
    {
      "cell_type": "markdown",
      "source": "# Задача 2\nНаписать функцию на вход, которой подается строка. Функция должна вернуть true, если\nкаждый символ в строке встречается только 1 раз, иначе должна вернуть false. Написать тесты для кода",
      "metadata": {
        "id": "t2ClV_Y0bbr6"
      }
    },
    {
      "cell_type": "code",
      "source": "def check_unique_symbols(string):\n    unique_symbols = []\n    for symbol in string:\n        if symbol in unique_symbols:\n            return False\n        else:\n            unique_symbols.append(symbol)\n    return True\n\nprint(check_unique_symbols('Hello world'))\nprint(check_unique_symbols('123-qwerty'))",
      "metadata": {
        "id": "FppbECao6VIz",
        "trusted": true
      },
      "outputs": [
        {
          "name": "stdout",
          "text": "False\nTrue\n",
          "output_type": "stream"
        }
      ],
      "execution_count": 3
    },
    {
      "cell_type": "markdown",
      "source": "# Задача 3\nНаписать функцию, которая принимает положительное число и возвращает количество\nбит равных 1 в этом числе. Написать тесты для кода",
      "metadata": {
        "id": "udRiIK1cdt6E"
      }
    },
    {
      "cell_type": "code",
      "source": "def count_bit(n):\n    return bin(n).count('1')\n\nprint(count_bit(5))\nprint(count_bit(1))",
      "metadata": {
        "id": "6tkfDJRz6dp_",
        "trusted": true
      },
      "outputs": [
        {
          "name": "stdout",
          "text": "2\n1\n",
          "output_type": "stream"
        }
      ],
      "execution_count": 4
    },
    {
      "cell_type": "markdown",
      "source": "# Задача 4\nНаписать функцию, которая принимает положительное число. Функция должна вернуть то,\nсколько раз необходимо перемножать цифры числа или результат перемножения, чтобы\nполучилось число состоящее из одной цифры.\nНапример, для входного числа:\n· 39 функция должна вернуть 3, так как 3*9=27 => 2*7=14 => 1*4=4\n· 4 функция должна вернуть 0, так как число уже состоит из одной цифры\n· 999 функция должна вернуть 4, так как 9*9*9=729 => 7*2*9=126 => 1*2*6=12 =>\n1*2=2. Написать тесты для кода",
      "metadata": {
        "id": "26dDUz-Ae17N"
      }
    },
    {
      "cell_type": "code",
      "source": "def magic(n):\n    if n < 10:\n        return 0\n    count = 0\n    while n >= 10:\n        result = 1\n        for number in str(n):\n            result *= int(number)\n        n = result\n        count += 1\n    return count\n    \nprint(magic(4))\nprint(magic(39))\nprint(magic(999))",
      "metadata": {
        "id": "BH1A_Mgi6i4G",
        "trusted": true
      },
      "outputs": [
        {
          "name": "stdout",
          "text": "0\n3\n4\n",
          "output_type": "stream"
        }
      ],
      "execution_count": 5
    },
    {
      "cell_type": "markdown",
      "source": "# Задача 5\nНаписать функцию, которая принимает два целочисленных вектора одинаковой длины и\nвозвращает среднеквадратическое отклонение двух векторов. Написать тесты для кода",
      "metadata": {
        "id": "0nS-kIa8g8vd"
      }
    },
    {
      "cell_type": "code",
      "source": "def mse(pred, true):\n    sqrt_sum = sum((p - t) ** 2 for p, t in zip(pred, true))\n    return (sqrt_sum/len(pred))**0.5\n\nprint(mse([1, 2, 3], [1, 2, 3]))\nprint(mse([1, 2, 3], [4, 5, 6]))",
      "metadata": {
        "id": "8iphx4LM6xbx",
        "trusted": true
      },
      "outputs": [
        {
          "name": "stdout",
          "text": "3.0\n",
          "output_type": "stream"
        }
      ],
      "execution_count": 9
    },
    {
      "cell_type": "markdown",
      "source": "# Задача 6\nНаписать функцию, принимающая целое положительное число. Функция должна вернуть\nстроку вида “(n1**p1)(n2**p2)…(nk**pk)” представляющая разложение числа на простые\nмножители (если pi == 1, то выводить только ni).\nНапример, для числа 86240 функция должна вернуть “(2**5)(5)(7**2)(11)”. Написать тесты для кода",
      "metadata": {
        "id": "vpIPKL439zkw"
      }
    },
    {
      "cell_type": "code",
      "source": "def prime_factors(n):\n    factors = {}\n    divisor = 2\n    while n > 1:\n        while n % divisor == 0:\n            if divisor in factors:\n                factors[divisor] += 1\n            else:\n                factors[divisor] = 1\n            n //= divisor\n        divisor += 1\n    result = ''\n    for divisor in factors:\n        if factors[divisor] == 1:\n            result += f'({divisor})'\n        else:\n            result += f'({divisor})**{factors[divisor]}'\n    return result\n\nprint(prime_factors(86240)) \nprint(prime_factors(100))",
      "metadata": {
        "id": "pFebmcZk94Jw",
        "trusted": true
      },
      "outputs": [
        {
          "name": "stdout",
          "text": "(2)**5(5)(7)**2(11)\n(2)**2(5)**2\n",
          "output_type": "stream"
        }
      ],
      "execution_count": 11
    },
    {
      "cell_type": "markdown",
      "source": "# Задача 7\nНаписать функцию, принимающая целое число n, задающее количество кубиков. Функция\nдолжна определить, можно ли из данного кол-ва кубиков построить пирамиду, то есть\nможно ли представить число n как 1^2+2^2+3^2+…+k^2. Если можно, то функция должна\nвернуть k, иначе строку “It is impossible”. Написать тесты для кода",
      "metadata": {
        "id": "ps2s0BudX7A2"
      }
    },
    {
      "cell_type": "code",
      "source": "def pyramid(number):\n    k = 1\n    sqrt_sum = 0\n    while sqrt_sum < number:\n        sqrt_sum += k**2\n        if sqrt_sum == number:\n            return k\n        k += 1\n    return \"It is impossible\"\n\nprint(pyramid(1))\nprint(pyramid(2))\nprint(pyramid(5))",
      "metadata": {
        "id": "3YPjEXxhX_YT",
        "trusted": true
      },
      "outputs": [
        {
          "name": "stdout",
          "text": "1\nIt is impossible\n2\n",
          "output_type": "stream"
        }
      ],
      "execution_count": 15
    },
    {
      "cell_type": "markdown",
      "source": "# Задача 8\nФункция принимает на вход положительное число и определяет является ли оно сбалансированным, т.е. сумма цифр до средних равна сумме цифр после. Средними в случае нечетного числа цифр считать одну цифру, в случае четного - две средних. Написать тесты для кода",
      "metadata": {
        "id": "KeKgmIdAQMEJ"
      }
    },
    {
      "cell_type": "code",
      "source": "def check_balance_number(n):\n    string = str(n)\n    length = len(string)\n    mid = length // 2\n    if length % 2 == 0:\n        left_sum = sum(int(string[i]) for i in range(mid))\n        right_sum = sum(int(string[i]) for i in range(mid, length))\n    else:\n        left_sum = sum(int(string[i]) for i in range(mid))\n        right_sum = sum(int(string[i]) for i in range(mid+1, length))\n        \n    return left_sum == right_sum\n    \nprint(check_balance_number(1))\nprint(check_balance_number(123321))\nprint(check_balance_number(12321))\nprint(check_balance_number(12))",
      "metadata": {
        "id": "gMAAqtqlQrZt",
        "trusted": true
      },
      "outputs": [
        {
          "name": "stdout",
          "text": "True\nTrue\nTrue\nFalse\n",
          "output_type": "stream"
        }
      ],
      "execution_count": 20
    },
    {
      "cell_type": "code",
      "source": "",
      "metadata": {
        "trusted": true
      },
      "outputs": [],
      "execution_count": null
    }
  ]
}